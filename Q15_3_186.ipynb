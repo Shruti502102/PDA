{
  "nbformat": 4,
  "nbformat_minor": 0,
  "metadata": {
    "colab": {
      "provenance": []
    },
    "kernelspec": {
      "name": "python3",
      "display_name": "Python 3"
    },
    "language_info": {
      "name": "python"
    }
  },
  "cells": [
    {
      "cell_type": "code",
      "execution_count": null,
      "metadata": {
        "id": "y_60dVKzi1d2"
      },
      "outputs": [],
      "source": [
        "import pandas as pd\n",
        "\n",
        "# Sample dataset\n",
        "data = {\n",
        "    'date': ['2025-04-01', '2025-04-02', '2025-04-03', '2025-04-04'],\n",
        "    'sales': [1500, 800, 1200, 500],\n",
        "    'region': ['North', 'South', 'East', 'West']\n",
        "}"
      ]
    },
    {
      "cell_type": "code",
      "source": [
        "# Create a DataFrame\n",
        "df = pd.DataFrame(data)\n",
        "\n",
        "# Convert the date column to datetime format\n",
        "df['date'] = pd.to_datetime(df['date'])"
      ],
      "metadata": {
        "id": "22v7yGXSmClc"
      },
      "execution_count": null,
      "outputs": []
    },
    {
      "cell_type": "code",
      "source": [
        "# Calculate total sales per region\n",
        "total_sales_per_region = df.groupby('region')['sales'].sum().reset_index()\n",
        "\n",
        "# Filter the rows to show only sales greater than 1000\n",
        "filtered_sales = df[df['sales'] > 1000]"
      ],
      "metadata": {
        "id": "YCqFqiYknT0e"
      },
      "execution_count": null,
      "outputs": []
    },
    {
      "cell_type": "code",
      "source": [
        "# Display the results\n",
        "print(\"Total Sales Per Region:\")\n",
        "print(total_sales_per_region)\n",
        "\n",
        "print(\"\\nFiltered Sales Greater Than 1000:\")\n",
        "print(filtered_sales)"
      ],
      "metadata": {
        "colab": {
          "base_uri": "https://localhost:8080/"
        },
        "id": "4p933zdunWUi",
        "outputId": "27b6b504-2cb7-413c-de3d-b3592c57a19b"
      },
      "execution_count": null,
      "outputs": [
        {
          "output_type": "stream",
          "name": "stdout",
          "text": [
            "Total Sales Per Region:\n",
            "  region  sales\n",
            "0   East   1200\n",
            "1  North   1500\n",
            "2  South    800\n",
            "3   West    500\n",
            "\n",
            "Filtered Sales Greater Than 1000:\n",
            "        date  sales region\n",
            "0 2025-04-01   1500  North\n",
            "2 2025-04-03   1200   East\n"
          ]
        }
      ]
    },
    {
      "cell_type": "code",
      "source": [
        "import pandas as pd\n",
        "\n",
        "# Load the CSV file\n",
        "df = pd.read_csv('US_Regional_Sales_Data.csv')"
      ],
      "metadata": {
        "id": "8Cd9HQ6NnnAs"
      },
      "execution_count": null,
      "outputs": []
    },
    {
      "cell_type": "code",
      "source": [
        "# Clean 'Unit Price' column (remove commas and convert to float)\n",
        "df['Unit Price'] = df['Unit Price'].str.replace(',', '').astype(float)\n",
        "\n",
        "# Convert 'Order Quantity' to numeric (in case of invalid entries)\n",
        "df['Order Quantity'] = pd.to_numeric(df['Order Quantity'], errors='coerce')\n"
      ],
      "metadata": {
        "id": "u4lfeEg7n0DM"
      },
      "execution_count": null,
      "outputs": []
    },
    {
      "cell_type": "code",
      "source": [
        "# Calculate 'Total Sales' = Unit Price * Order Quantity\n",
        "df['Total Sales'] = df['Unit Price'] * df['Order Quantity']\n",
        "\n",
        "# Convert 'OrderDate' to datetime format\n",
        "df['OrderDate'] = pd.to_datetime(df['OrderDate'], format='%d/%m/%y', errors='coerce')\n",
        "\n",
        "# Total sales per region (Sales Channel used as region)\n",
        "total_sales_per_region = df.groupby('Sales Channel')['Total Sales'].sum().reset_index()\n",
        "\n",
        "# Filter rows where total sales > 1000\n",
        "filtered_sales = df[df['Total Sales'] > 1000]"
      ],
      "metadata": {
        "id": "KG3A0e76n3O1"
      },
      "execution_count": null,
      "outputs": []
    },
    {
      "cell_type": "code",
      "source": [
        "# Output\n",
        "print(\"Total Sales per Region:\")\n",
        "print(total_sales_per_region)\n",
        "\n",
        "print(\"\\nFiltered Rows (Total Sales > 1000):\")\n",
        "print(filtered_sales[['OrderDate', 'Sales Channel', 'Total Sales']].head())"
      ],
      "metadata": {
        "colab": {
          "base_uri": "https://localhost:8080/"
        },
        "id": "f6eq9iVOn6tY",
        "outputId": "1d052912-70cc-44f9-c93e-0acca09c6f92"
      },
      "execution_count": null,
      "outputs": [
        {
          "output_type": "stream",
          "name": "stdout",
          "text": [
            "Total Sales per Region:\n",
            "  Sales Channel  Total Sales\n",
            "0   Distributor   14809907.8\n",
            "1      In-Store   34040113.8\n",
            "2        Online   24629756.1\n",
            "3     Wholesale    9212948.9\n",
            "\n",
            "Filtered Rows (Total Sales > 1000):\n",
            "   OrderDate Sales Channel  Total Sales\n",
            "0 2018-05-31      In-Store       9815.5\n",
            "1 2018-05-31        Online      11818.8\n",
            "2 2018-05-31   Distributor       1775.5\n",
            "3 2018-05-31     Wholesale      18599.2\n",
            "4 2018-05-31   Distributor      14579.2\n"
          ]
        }
      ]
    }
  ]
}