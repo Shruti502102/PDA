{
  "nbformat": 4,
  "nbformat_minor": 0,
  "metadata": {
    "colab": {
      "provenance": []
    },
    "kernelspec": {
      "name": "python3",
      "display_name": "Python 3"
    },
    "language_info": {
      "name": "python"
    }
  },
  "cells": [
    {
      "cell_type": "code",
      "execution_count": null,
      "metadata": {
        "colab": {
          "base_uri": "https://localhost:8080/"
        },
        "id": "exxg6rdwBxXA",
        "outputId": "23bea291-f892-4951-a67a-2c7d67583cf1"
      },
      "outputs": [
        {
          "output_type": "stream",
          "name": "stdout",
          "text": [
            "Table created successfully.\n"
          ]
        }
      ],
      "source": [
        "import sqlite3\n",
        "\n",
        "# a) Connect to SQLite database and create the 'products' table\n",
        "def create_table():\n",
        "    conn = sqlite3.connect('store.db')\n",
        "    cursor = conn.cursor()\n",
        "    cursor.execute('''CREATE TABLE IF NOT EXISTS products (\n",
        "        product_id INTEGER PRIMARY KEY,\n",
        "        product_name TEXT,\n",
        "        price REAL,\n",
        "        quantity INTEGER\n",
        "    )''')\n",
        "    conn.commit() # Indented to be within the function's scope\n",
        "    conn.close() # Indented to be within the function's scope\n",
        "print(\"Table created successfully.\")"
      ]
    },
    {
      "cell_type": "code",
      "source": [
        "# b) Insert product data into the table\n",
        "def insert_product(product_name, price, quantity):\n",
        "    conn = sqlite3.connect('store.db')\n",
        "    cursor = conn.cursor()\n",
        "    cursor.execute(\"INSERT INTO products (product_name, price, quantity) VALUES (?, ?, ?)\",\n",
        "                   (product_name, price, quantity))\n",
        "    conn.commit()\n",
        "    conn.close()\n",
        "print(\"Product inserted successfully.\")"
      ],
      "metadata": {
        "colab": {
          "base_uri": "https://localhost:8080/"
        },
        "id": "FuCP7ZoeB63C",
        "outputId": "94fd1c46-4d72-4293-941b-4cd99e6af1f5"
      },
      "execution_count": null,
      "outputs": [
        {
          "output_type": "stream",
          "name": "stdout",
          "text": [
            "Product inserted successfully.\n"
          ]
        }
      ]
    },
    {
      "cell_type": "code",
      "source": [
        "# c) Add a description column to the table\n",
        "def add_description_column():\n",
        "    conn = sqlite3.connect('store.db')\n",
        "    cursor = conn.cursor()\n",
        "    try:\n",
        "        cursor.execute(\"ALTER TABLE products ADD COLUMN description TEXT\")\n",
        "        conn.commit()\n",
        "        print(\"Description column added.\")\n",
        "    except sqlite3.OperationalError:\n",
        "        print(\"Description column already exists.\")\n",
        "    conn.close()"
      ],
      "metadata": {
        "id": "sLncBSHvCSef"
      },
      "execution_count": null,
      "outputs": []
    },
    {
      "cell_type": "code",
      "source": [
        "# d) Count the number of products\n",
        "def count_products():\n",
        "    conn = sqlite3.connect('store.db')\n",
        "    cursor = conn.cursor()\n",
        "    cursor.execute(\"SELECT COUNT(*) FROM products\")\n",
        "    count = cursor.fetchone()[0]\n",
        "    conn.close()\n",
        "    print(\"Total products:\", count)"
      ],
      "metadata": {
        "id": "Ft5abPpGCVSe"
      },
      "execution_count": null,
      "outputs": []
    },
    {
      "cell_type": "code",
      "source": [
        "# e) Retrieve products with price greater than 500\n",
        "def retrieve_expensive_products():\n",
        "    conn = sqlite3.connect('store.db')\n",
        "    cursor = conn.cursor()\n",
        "    cursor.execute(\"SELECT * FROM products WHERE price > 500\")\n",
        "    rows = cursor.fetchall()\n",
        "    conn.close()\n",
        "    print(\"Expensive products:\", rows)\n",
        "\n",
        "# Execute the functions\n",
        "create_table()\n",
        "insert_product(\"Laptop\", 800.50, 10)\n",
        "add_description_column()\n",
        "count_products()\n",
        "retrieve_expensive_products()"
      ],
      "metadata": {
        "colab": {
          "base_uri": "https://localhost:8080/"
        },
        "id": "tLVDHvG5CXu5",
        "outputId": "2db6aebf-32ba-429e-9857-93a719640c7b"
      },
      "execution_count": null,
      "outputs": [
        {
          "output_type": "stream",
          "name": "stdout",
          "text": [
            "Product inserted successfully.\n",
            "Description column already exists.\n",
            "Total products: 2\n",
            "Expensive products: [(1, 'Laptop', 800.5, 10, None), (2, 'Laptop', 800.5, 10, None)]\n"
          ]
        }
      ]
    }
  ]
}